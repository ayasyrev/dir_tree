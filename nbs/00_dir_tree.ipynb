{
 "cells": [
  {
   "cell_type": "markdown",
   "metadata": {},
   "source": [
    "# dir_tree\n",
    "> Print directory tree."
   ]
  },
  {
   "cell_type": "code",
   "execution_count": 12,
   "metadata": {
    "ExecuteTime": {
     "end_time": "2020-04-06T15:37:47.005194Z",
     "start_time": "2020-04-06T15:37:46.998906Z"
    }
   },
   "outputs": [],
   "source": [
    "# hide\n",
    "# from nbdev.showdoc import *"
   ]
  },
  {
   "cell_type": "code",
   "execution_count": 13,
   "metadata": {
    "ExecuteTime": {
     "end_time": "2020-04-06T15:37:47.489656Z",
     "start_time": "2020-04-06T15:37:47.484865Z"
    }
   },
   "outputs": [],
   "source": [
    "# export\n",
    "import os\n",
    "from pathlib import Path"
   ]
  },
  {
   "cell_type": "code",
   "execution_count": 14,
   "metadata": {
    "ExecuteTime": {
     "end_time": "2020-04-06T15:37:47.783063Z",
     "start_time": "2020-04-06T15:37:47.775956Z"
    }
   },
   "outputs": [],
   "source": [
    "#hide\n",
    "path = Path()"
   ]
  },
  {
   "cell_type": "code",
   "execution_count": 15,
   "metadata": {
    "ExecuteTime": {
     "end_time": "2020-04-06T15:37:48.038309Z",
     "start_time": "2020-04-06T15:37:48.031573Z"
    }
   },
   "outputs": [],
   "source": [
    "# hide\n",
    "ls = lambda x: list(x.iterdir())\n",
    "Path.ls = ls\n",
    "Path.lf = lambda x: [i for i in x.iterdir() if i.is_file()]\n",
    "Path.ld = lambda x: [i for i in x.iterdir() if i.is_dir()]"
   ]
  },
  {
   "cell_type": "code",
   "execution_count": 16,
   "metadata": {
    "ExecuteTime": {
     "end_time": "2020-04-06T15:37:48.269487Z",
     "start_time": "2020-04-06T15:37:48.259516Z"
    }
   },
   "outputs": [
    {
     "data": {
      "text/plain": [
       "[PosixPath('test_dir'),\n",
       " PosixPath('index.ipynb'),\n",
       " PosixPath('00_dir_tree.ipynb'),\n",
       " PosixPath('.ipynb_checkpoints')]"
      ]
     },
     "execution_count": 16,
     "metadata": {},
     "output_type": "execute_result"
    }
   ],
   "source": [
    "#hide\n",
    "path.ls()"
   ]
  },
  {
   "cell_type": "code",
   "execution_count": 17,
   "metadata": {
    "ExecuteTime": {
     "end_time": "2020-04-06T15:37:48.483231Z",
     "start_time": "2020-04-06T15:37:48.474557Z"
    }
   },
   "outputs": [],
   "source": [
    "# hide\n",
    "test_dir = Path('test_dir')\n",
    "num_dirs = 3"
   ]
  },
  {
   "cell_type": "code",
   "execution_count": 18,
   "metadata": {
    "ExecuteTime": {
     "end_time": "2020-04-06T15:37:48.708456Z",
     "start_time": "2020-04-06T15:37:48.701911Z"
    }
   },
   "outputs": [],
   "source": [
    "# export\n",
    "def create_sub_dirs(path, num_sub_dirs, sub_dir_name='sub_dir', levels=1):\n",
    "    for i in range(num_sub_dirs):\n",
    "        sub_dir = path/(sub_dir_name + f\"_{i+1}\")\n",
    "        sub_dir.mkdir(exist_ok=True)\n",
    "        if levels: create_sub_dirs(sub_dir, i+1+num_sub_dirs, sub_dir.name, levels-1)"
   ]
  },
  {
   "cell_type": "code",
   "execution_count": 19,
   "metadata": {
    "ExecuteTime": {
     "end_time": "2020-04-06T15:37:48.951646Z",
     "start_time": "2020-04-06T15:37:48.946585Z"
    }
   },
   "outputs": [],
   "source": [
    "#export\n",
    "def create_test_dir(path='test_dir', num_sub_dirs=3, sub_dir_name='sub_dir', levels=1):\n",
    "    path = Path(path)\n",
    "    path.mkdir(exist_ok=True)\n",
    "    create_sub_dirs(path, num_sub_dirs, sub_dir_name, levels)"
   ]
  },
  {
   "cell_type": "code",
   "execution_count": 20,
   "metadata": {
    "ExecuteTime": {
     "end_time": "2020-04-06T15:37:49.213018Z",
     "start_time": "2020-04-06T15:37:49.203202Z"
    }
   },
   "outputs": [],
   "source": [
    "#hide\n",
    "create_test_dir()"
   ]
  },
  {
   "cell_type": "markdown",
   "metadata": {},
   "source": [
    "# Tree"
   ]
  },
  {
   "cell_type": "code",
   "execution_count": 21,
   "metadata": {
    "ExecuteTime": {
     "end_time": "2020-04-06T15:37:49.696437Z",
     "start_time": "2020-04-06T15:37:49.689451Z"
    }
   },
   "outputs": [],
   "source": [
    "# export\n",
    "def get_dirs_files(path):\n",
    "    '''Return tuple of lists -> drectoris and files'''\n",
    "    res = {True: [], False: []}\n",
    "    for dir_entry in os.scandir(Path(path)):\n",
    "        res[dir_entry.is_dir()].append(Path(dir_entry))\n",
    "    return sorted(res[True]), sorted(res[False])"
   ]
  },
  {
   "cell_type": "code",
   "execution_count": 22,
   "metadata": {
    "ExecuteTime": {
     "end_time": "2020-04-06T15:37:49.976920Z",
     "start_time": "2020-04-06T15:37:49.968342Z"
    }
   },
   "outputs": [],
   "source": [
    "dirs, files = get_dirs_files(test_dir)"
   ]
  },
  {
   "cell_type": "code",
   "execution_count": 23,
   "metadata": {
    "ExecuteTime": {
     "end_time": "2020-04-06T15:37:50.189038Z",
     "start_time": "2020-04-06T15:37:50.182870Z"
    }
   },
   "outputs": [
    {
     "data": {
      "text/plain": [
       "[PosixPath('test_dir/sub_dir_1'),\n",
       " PosixPath('test_dir/sub_dir_2'),\n",
       " PosixPath('test_dir/sub_dir_3')]"
      ]
     },
     "execution_count": 23,
     "metadata": {},
     "output_type": "execute_result"
    }
   ],
   "source": [
    "dirs"
   ]
  },
  {
   "cell_type": "code",
   "execution_count": 24,
   "metadata": {
    "ExecuteTime": {
     "end_time": "2020-04-06T15:37:50.489603Z",
     "start_time": "2020-04-06T15:37:50.483670Z"
    }
   },
   "outputs": [
    {
     "data": {
      "text/plain": [
       "[]"
      ]
     },
     "execution_count": 24,
     "metadata": {},
     "output_type": "execute_result"
    }
   ],
   "source": [
    "files"
   ]
  },
  {
   "cell_type": "code",
   "execution_count": 29,
   "metadata": {
    "ExecuteTime": {
     "end_time": "2020-04-06T16:15:00.281664Z",
     "start_time": "2020-04-06T16:15:00.274245Z"
    }
   },
   "outputs": [],
   "source": [
    "# exports\n",
    "def tree(path='.', ident=0, print_files=False, num_files=3):\n",
    "    '''Print dir tree. Input - str or Path-like obj. \n",
    "    If print_files is True, print files, limited to num_files.'''\n",
    "    path = Path(path)\n",
    "    dirs, files = get_dirs_files(path)\n",
    "    print(' '*ident, f\"{path.name}  - {len(dirs)} dirs {len(files)} files\")\n",
    "    for dir_entry in dirs:\n",
    "#         print(' '*ident, dir_entry.name)\n",
    "        tree(Path(dir_entry), ident+4, print_files, num_files)\n",
    "    if print_files:\n",
    "        len_files = len(files)\n",
    "        for dir_entry in files[:num_files]:\n",
    "            print(' '*(ident+4), '-', dir_entry.name)\n",
    "        if len_files > num_files and len_files !=0: \n",
    "            print(' '*(ident+4), '--', f\"{len_files-num_files} more files in this dir\")"
   ]
  },
  {
   "cell_type": "code",
   "execution_count": 30,
   "metadata": {
    "ExecuteTime": {
     "end_time": "2020-04-06T16:15:05.158420Z",
     "start_time": "2020-04-06T16:15:05.145302Z"
    }
   },
   "outputs": [
    {
     "name": "stdout",
     "output_type": "stream",
     "text": [
      " test_dir  - 3 dirs 0 files\n",
      "     sub_dir_1  - 4 dirs 0 files\n",
      "         sub_dir_1_1  - 0 dirs 0 files\n",
      "         sub_dir_1_2  - 0 dirs 0 files\n",
      "         sub_dir_1_3  - 0 dirs 0 files\n",
      "         sub_dir_1_4  - 0 dirs 0 files\n",
      "     sub_dir_2  - 5 dirs 0 files\n",
      "         sub_dir_2_1  - 0 dirs 0 files\n",
      "         sub_dir_2_2  - 0 dirs 0 files\n",
      "         sub_dir_2_3  - 0 dirs 0 files\n",
      "         sub_dir_2_4  - 0 dirs 0 files\n",
      "         sub_dir_2_5  - 0 dirs 0 files\n",
      "     sub_dir_3  - 6 dirs 0 files\n",
      "         sub_dir_3_1  - 0 dirs 0 files\n",
      "         sub_dir_3_2  - 0 dirs 0 files\n",
      "         sub_dir_3_3  - 0 dirs 0 files\n",
      "         sub_dir_3_4  - 0 dirs 0 files\n",
      "         sub_dir_3_5  - 0 dirs 0 files\n",
      "         sub_dir_3_6  - 0 dirs 0 files\n"
     ]
    }
   ],
   "source": [
    "tree(test_dir)"
   ]
  },
  {
   "cell_type": "code",
   "execution_count": 27,
   "metadata": {
    "ExecuteTime": {
     "end_time": "2020-04-06T15:37:51.281121Z",
     "start_time": "2020-04-06T15:37:51.240024Z"
    }
   },
   "outputs": [
    {
     "name": "stdout",
     "output_type": "stream",
     "text": [
      "   - 2 dirs 2 files\n",
      "     .ipynb_checkpoints  - 0 dirs 2 files\n",
      "         - 00_dir_tree-checkpoint.ipynb\n",
      "         - index-checkpoint.ipynb\n",
      "     test_dir  - 3 dirs 0 files\n",
      "         sub_dir_1  - 4 dirs 0 files\n",
      "             sub_dir_1_1  - 0 dirs 0 files\n",
      "             sub_dir_1_2  - 0 dirs 0 files\n",
      "             sub_dir_1_3  - 0 dirs 0 files\n",
      "             sub_dir_1_4  - 0 dirs 0 files\n",
      "         sub_dir_2  - 5 dirs 0 files\n",
      "             sub_dir_2_1  - 0 dirs 0 files\n",
      "             sub_dir_2_2  - 0 dirs 0 files\n",
      "             sub_dir_2_3  - 0 dirs 0 files\n",
      "             sub_dir_2_4  - 0 dirs 0 files\n",
      "             sub_dir_2_5  - 0 dirs 0 files\n",
      "         sub_dir_3  - 6 dirs 0 files\n",
      "             sub_dir_3_1  - 0 dirs 0 files\n",
      "             sub_dir_3_2  - 0 dirs 0 files\n",
      "             sub_dir_3_3  - 0 dirs 0 files\n",
      "             sub_dir_3_4  - 0 dirs 0 files\n",
      "             sub_dir_3_5  - 0 dirs 0 files\n",
      "             sub_dir_3_6  - 0 dirs 0 files\n",
      "     - 00_dir_tree.ipynb\n",
      "     - index.ipynb\n"
     ]
    }
   ],
   "source": [
    "tree(path, print_files=True)"
   ]
  },
  {
   "cell_type": "markdown",
   "metadata": {},
   "source": [
    "# end"
   ]
  },
  {
   "cell_type": "code",
   "execution_count": 28,
   "metadata": {
    "ExecuteTime": {
     "end_time": "2020-04-06T15:37:51.852347Z",
     "start_time": "2020-04-06T15:37:51.847952Z"
    }
   },
   "outputs": [],
   "source": [
    "# hide\n",
    "# clear test dir\n",
    "# !rm -r {test_dir}/*"
   ]
  },
  {
   "cell_type": "code",
   "execution_count": null,
   "metadata": {},
   "outputs": [],
   "source": []
  }
 ],
 "metadata": {
  "kernelspec": {
   "display_name": "Python 3",
   "language": "python",
   "name": "python3"
  },
  "language_info": {
   "codemirror_mode": {
    "name": "ipython",
    "version": 3
   },
   "file_extension": ".py",
   "mimetype": "text/x-python",
   "name": "python",
   "nbconvert_exporter": "python",
   "pygments_lexer": "ipython3",
   "version": "3.7.7"
  },
  "toc": {
   "base_numbering": 1,
   "nav_menu": {
    "height": "237px",
    "width": "196px"
   },
   "number_sections": true,
   "sideBar": false,
   "skip_h1_title": false,
   "title_cell": "Table of Contents",
   "title_sidebar": "Contents",
   "toc_cell": false,
   "toc_position": {
    "height": "714.667px",
    "left": "1357.34px",
    "top": "110px",
    "width": "339.333px"
   },
   "toc_section_display": true,
   "toc_window_display": false
  }
 },
 "nbformat": 4,
 "nbformat_minor": 2
}
