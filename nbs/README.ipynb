{
 "cells": [
  {
   "cell_type": "code",
   "execution_count": null,
   "metadata": {},
   "outputs": [],
   "source": [
    "#hide\n",
    "from dir_tree import create_test_dir\n",
    "create_test_dir()"
   ]
  },
  {
   "cell_type": "markdown",
   "metadata": {},
   "source": [
    "# Dir_tree\n",
    "\n",
    "> print directory tree"
   ]
  },
  {
   "cell_type": "markdown",
   "metadata": {},
   "source": [
    "Similar as tree in terminal."
   ]
  },
  {
   "cell_type": "markdown",
   "metadata": {},
   "source": [
    "## Install"
   ]
  },
  {
   "cell_type": "markdown",
   "metadata": {},
   "source": [
    "`pip install dir-tree`"
   ]
  },
  {
   "cell_type": "markdown",
   "metadata": {},
   "source": [
    "## How to use"
   ]
  },
  {
   "cell_type": "markdown",
   "metadata": {},
   "source": [
    "Import tree function:"
   ]
  },
  {
   "cell_type": "code",
   "execution_count": null,
   "metadata": {},
   "outputs": [],
   "source": [
    "from dir_tree import tree"
   ]
  },
  {
   "cell_type": "code",
   "execution_count": null,
   "metadata": {},
   "outputs": [
    {
     "name": "stdout",
     "output_type": "stream",
     "text": [
      " test_dir  - 3 dirs 0 files\n",
      "     sub_dir_1  - 4 dirs 0 files\n",
      "         sub_dir_1_1  - 0 dirs 0 files\n",
      "         sub_dir_1_2  - 0 dirs 0 files\n",
      "         sub_dir_1_3  - 0 dirs 0 files\n",
      "         sub_dir_1_4  - 0 dirs 0 files\n",
      "     sub_dir_2  - 5 dirs 0 files\n",
      "         sub_dir_2_1  - 0 dirs 0 files\n",
      "         sub_dir_2_2  - 0 dirs 0 files\n",
      "         sub_dir_2_3  - 0 dirs 0 files\n",
      "         sub_dir_2_4  - 0 dirs 0 files\n",
      "         sub_dir_2_5  - 0 dirs 0 files\n",
      "     sub_dir_3  - 6 dirs 0 files\n",
      "         sub_dir_3_1  - 0 dirs 0 files\n",
      "         sub_dir_3_2  - 0 dirs 0 files\n",
      "         sub_dir_3_3  - 0 dirs 0 files\n",
      "         sub_dir_3_4  - 0 dirs 0 files\n",
      "         sub_dir_3_5  - 0 dirs 0 files\n",
      "         sub_dir_3_6  - 0 dirs 0 files\n"
     ]
    }
   ],
   "source": [
    "tree('test_dir')"
   ]
  },
  {
   "cell_type": "markdown",
   "metadata": {},
   "source": [
    "You can sent string or Path object to tree function."
   ]
  },
  {
   "cell_type": "code",
   "execution_count": null,
   "metadata": {},
   "outputs": [],
   "source": [
    "from pathlib import Path"
   ]
  },
  {
   "cell_type": "code",
   "execution_count": null,
   "metadata": {},
   "outputs": [],
   "source": [
    "path = Path('test_dir')"
   ]
  },
  {
   "cell_type": "markdown",
   "metadata": {},
   "source": [
    "Now we can use path: "
   ]
  },
  {
   "cell_type": "markdown",
   "metadata": {},
   "source": [
    "`tree(path)`"
   ]
  },
  {
   "cell_type": "markdown",
   "metadata": {},
   "source": [
    "And we can 'patch' Path as:  "
   ]
  },
  {
   "cell_type": "markdown",
   "metadata": {},
   "source": [
    "`Path.tree = tree`"
   ]
  },
  {
   "cell_type": "markdown",
   "metadata": {},
   "source": [
    "Now we can use it as:"
   ]
  },
  {
   "cell_type": "markdown",
   "metadata": {},
   "source": [
    "`path.tree()`"
   ]
  },
  {
   "cell_type": "markdown",
   "metadata": {},
   "source": [
    "If you want look to files content, use `print_files=True` argument.  \n",
    "It print filenames, limited to `num_files` quantity."
   ]
  },
  {
   "cell_type": "markdown",
   "metadata": {},
   "source": [
    "In terminal it can be used as dir_tree command.   "
   ]
  },
  {
   "cell_type": "markdown",
   "metadata": {},
   "source": [
    "It uses only standart library."
   ]
  },
  {
   "cell_type": "markdown",
   "metadata": {},
   "source": [
    "Now it has only base functionality.  "
   ]
  }
 ],
 "metadata": {
  "kernelspec": {
   "display_name": "Python 3.9.12 ('nbdocs')",
   "language": "python",
   "name": "python3"
  },
  "language_info": {
   "name": "python",
   "version": "3.9.12"
  },
  "vscode": {
   "interpreter": {
    "hash": "a05c73849f06090f3b2f4a25f8dbd2c3b61cec932cf4ce0e3783a8432bfed4e4"
   }
  }
 },
 "nbformat": 4,
 "nbformat_minor": 2
}
