{
 "cells": [
  {
   "cell_type": "code",
   "execution_count": null,
   "metadata": {},
   "outputs": [],
   "source": [
    "#hide\n",
    "from dir_tree.dir_tree import create_test_dir\n",
    "create_test_dir()"
   ]
  },
  {
   "cell_type": "markdown",
   "metadata": {},
   "source": [
    "# dir_tree\n",
    "\n",
    "> print directory tree"
   ]
  },
  {
   "cell_type": "markdown",
   "metadata": {},
   "source": [
    "Similar as tree in terminal."
   ]
  },
  {
   "cell_type": "markdown",
   "metadata": {},
   "source": [
    "## Install"
   ]
  },
  {
   "cell_type": "markdown",
   "metadata": {},
   "source": [
    "`pip install dir-tree`"
   ]
  },
  {
   "cell_type": "markdown",
   "metadata": {},
   "source": [
    "## How to use"
   ]
  },
  {
   "cell_type": "markdown",
   "metadata": {},
   "source": [
    "Import tree function:"
   ]
  },
  {
   "cell_type": "code",
   "execution_count": null,
   "metadata": {},
   "outputs": [],
   "source": [
    "from dir_tree.dir_tree import tree"
   ]
  },
  {
   "cell_type": "code",
   "execution_count": null,
   "metadata": {},
   "outputs": [
    {
     "name": "stdout",
     "output_type": "stream",
     "text": [
      " test_dir  - 3 dirs 0 files\n",
      "     sub_dir_1  - 4 dirs 0 files\n",
      "         sub_dir_1_1  - 0 dirs 0 files\n",
      "         sub_dir_1_2  - 0 dirs 0 files\n",
      "         sub_dir_1_3  - 0 dirs 0 files\n",
      "         sub_dir_1_4  - 0 dirs 0 files\n",
      "     sub_dir_2  - 5 dirs 0 files\n",
      "         sub_dir_2_1  - 0 dirs 0 files\n",
      "         sub_dir_2_2  - 0 dirs 0 files\n",
      "         sub_dir_2_3  - 0 dirs 0 files\n",
      "         sub_dir_2_4  - 0 dirs 0 files\n",
      "         sub_dir_2_5  - 0 dirs 0 files\n",
      "     sub_dir_3  - 6 dirs 0 files\n",
      "         sub_dir_3_1  - 0 dirs 0 files\n",
      "         sub_dir_3_2  - 0 dirs 0 files\n",
      "         sub_dir_3_3  - 0 dirs 0 files\n",
      "         sub_dir_3_4  - 0 dirs 0 files\n",
      "         sub_dir_3_5  - 0 dirs 0 files\n",
      "         sub_dir_3_6  - 0 dirs 0 files\n"
     ]
    }
   ],
   "source": [
    "tree('test_dir')"
   ]
  },
  {
   "cell_type": "markdown",
   "metadata": {},
   "source": [
    "You can sent string or Path object to tree function."
   ]
  },
  {
   "cell_type": "code",
   "execution_count": null,
   "metadata": {},
   "outputs": [],
   "source": [
    "from pathlib import Path"
   ]
  },
  {
   "cell_type": "code",
   "execution_count": null,
   "metadata": {},
   "outputs": [],
   "source": [
    "path = Path('test_dir')"
   ]
  },
  {
   "cell_type": "markdown",
   "metadata": {},
   "source": [
    "Now we can use path: "
   ]
  },
  {
   "cell_type": "markdown",
   "metadata": {},
   "source": [
    "`tree(path)`"
   ]
  },
  {
   "cell_type": "markdown",
   "metadata": {},
   "source": [
    "And we can 'patch' Path as:"
   ]
  },
  {
   "cell_type": "markdown",
   "metadata": {},
   "source": [
    "`Path.tree = tree'"
   ]
  },
  {
   "cell_type": "markdown",
   "metadata": {},
   "source": [
    "Now we can use it as:"
   ]
  },
  {
   "cell_type": "markdown",
   "metadata": {},
   "source": [
    "`path.tree()`"
   ]
  },
  {
   "cell_type": "markdown",
   "metadata": {},
   "source": [
    "And better, if you use fastcore, you can patch it using @patch decorator.  \n",
    "I didnt use it becouse won't use any dependences."
   ]
  },
  {
   "cell_type": "code",
   "execution_count": null,
   "metadata": {},
   "outputs": [],
   "source": []
  },
  {
   "cell_type": "markdown",
   "metadata": {},
   "source": [
    "Now it has only base functionality.  \n",
    "In plans: ipywidgets and cl functionalitys."
   ]
  },
  {
   "cell_type": "code",
   "execution_count": null,
   "metadata": {},
   "outputs": [],
   "source": []
  },
  {
   "cell_type": "code",
   "execution_count": null,
   "metadata": {},
   "outputs": [],
   "source": []
  },
  {
   "cell_type": "code",
   "execution_count": null,
   "metadata": {},
   "outputs": [],
   "source": []
  }
 ],
 "metadata": {
  "kernelspec": {
   "display_name": "Python 3",
   "language": "python",
   "name": "python3"
  }
 },
 "nbformat": 4,
 "nbformat_minor": 2
}
