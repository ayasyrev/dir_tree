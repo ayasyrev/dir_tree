{
 "cells": [
  {
   "cell_type": "code",
   "execution_count": null,
   "metadata": {},
   "outputs": [],
   "source": [
    "# default_exp dir_tree"
   ]
  },
  {
   "cell_type": "markdown",
   "metadata": {},
   "source": [
    "# dir_tree\n",
    "> Print directory tree."
   ]
  },
  {
   "cell_type": "code",
   "execution_count": null,
   "metadata": {},
   "outputs": [],
   "source": [
    "# export\n",
    "import os\n",
    "from pathlib import Path"
   ]
  },
  {
   "cell_type": "code",
   "execution_count": null,
   "metadata": {},
   "outputs": [],
   "source": [
    "#hide\n",
    "path = Path()"
   ]
  },
  {
   "cell_type": "code",
   "execution_count": null,
   "metadata": {},
   "outputs": [],
   "source": [
    "# hide\n",
    "ls = lambda x: list(x.iterdir())\n",
    "Path.ls = ls\n",
    "Path.lf = lambda x: [i for i in x.iterdir() if i.is_file()]\n",
    "Path.ld = lambda x: [i for i in x.iterdir() if i.is_dir()]"
   ]
  },
  {
   "cell_type": "code",
   "execution_count": null,
   "metadata": {},
   "outputs": [
    {
     "data": {
      "text/plain": [
       "[PosixPath('.ipynb_checkpoints'),\n",
       " PosixPath('00_dir_tree.ipynb'),\n",
       " PosixPath('index.ipynb'),\n",
       " PosixPath('.gitattributes'),\n",
       " PosixPath('test_dir')]"
      ]
     },
     "execution_count": null,
     "metadata": {},
     "output_type": "execute_result"
    }
   ],
   "source": [
    "#hide\n",
    "path.ls()"
   ]
  },
  {
   "cell_type": "code",
   "execution_count": null,
   "metadata": {},
   "outputs": [],
   "source": [
    "# hide\n",
    "test_dir = Path('test_dir')\n",
    "num_dirs = 3"
   ]
  },
  {
   "cell_type": "code",
   "execution_count": null,
   "metadata": {},
   "outputs": [],
   "source": [
    "# export\n",
    "def create_sub_dirs(path, num_sub_dirs, sub_dir_name='sub_dir', levels=1):\n",
    "    for i in range(num_sub_dirs):\n",
    "        sub_dir = path/(sub_dir_name + f\"_{i+1}\")\n",
    "        sub_dir.mkdir(exist_ok=True)\n",
    "        if levels: create_sub_dirs(sub_dir, i+1+num_sub_dirs, sub_dir.name, levels-1)"
   ]
  },
  {
   "cell_type": "code",
   "execution_count": null,
   "metadata": {},
   "outputs": [],
   "source": [
    "#export\n",
    "def create_test_dir(path='test_dir', num_sub_dirs=3, sub_dir_name='sub_dir', levels=1):\n",
    "    path = Path(path)\n",
    "    path.mkdir(exist_ok=True)\n",
    "    create_sub_dirs(path, num_sub_dirs, sub_dir_name, levels)"
   ]
  },
  {
   "cell_type": "code",
   "execution_count": null,
   "metadata": {},
   "outputs": [],
   "source": [
    "#hide\n",
    "# create_sub_dirs(test_dir, num_dirs)"
   ]
  },
  {
   "cell_type": "code",
   "execution_count": null,
   "metadata": {},
   "outputs": [],
   "source": [
    "create_test_dir()"
   ]
  },
  {
   "cell_type": "markdown",
   "metadata": {},
   "source": [
    "# Tree"
   ]
  },
  {
   "cell_type": "code",
   "execution_count": null,
   "metadata": {},
   "outputs": [],
   "source": [
    "# export\n",
    "def get_dirs_files(path):\n",
    "    '''Return tuple of lists -> drectoris and files'''\n",
    "    res = {True: [], False: []}\n",
    "    for dir_entry in os.scandir(Path(path)):\n",
    "        res[dir_entry.is_dir()].append(Path(dir_entry))\n",
    "    return sorted(res[True]), sorted(res[False])"
   ]
  },
  {
   "cell_type": "code",
   "execution_count": null,
   "metadata": {},
   "outputs": [],
   "source": [
    "dirs, files = get_dirs_files(test_dir)"
   ]
  },
  {
   "cell_type": "code",
   "execution_count": null,
   "metadata": {},
   "outputs": [
    {
     "data": {
      "text/plain": [
       "[PosixPath('test_dir/sub_dir_1'),\n",
       " PosixPath('test_dir/sub_dir_2'),\n",
       " PosixPath('test_dir/sub_dir_3')]"
      ]
     },
     "execution_count": null,
     "metadata": {},
     "output_type": "execute_result"
    }
   ],
   "source": [
    "dirs"
   ]
  },
  {
   "cell_type": "code",
   "execution_count": null,
   "metadata": {},
   "outputs": [
    {
     "data": {
      "text/plain": [
       "[]"
      ]
     },
     "execution_count": null,
     "metadata": {},
     "output_type": "execute_result"
    }
   ],
   "source": [
    "files"
   ]
  },
  {
   "cell_type": "code",
   "execution_count": null,
   "metadata": {},
   "outputs": [],
   "source": [
    "# export\n",
    "def tree(path, ident=0, print_files=False, num_files=3):\n",
    "    path = Path(path)\n",
    "    dirs, files = get_dirs_files(path)\n",
    "    print(' '*ident, f\"{path.name}  - {len(dirs)} dirs {len(files)} files\")\n",
    "    for dir_entry in dirs:\n",
    "#         print(' '*ident, dir_entry.name)\n",
    "        tree(Path(dir_entry), ident+4, print_files, num_files)\n",
    "    if print_files:\n",
    "        len_files = len(files)\n",
    "        for dir_entry in files[:num_files]:\n",
    "            print(' '*(ident+4), '-', dir_entry.name)\n",
    "        if len_files > num_files and len_files !=0: \n",
    "            print(' '*(ident+4), '--', f\"{len_files-num_files} more files in this dir\")"
   ]
  },
  {
   "cell_type": "code",
   "execution_count": null,
   "metadata": {},
   "outputs": [
    {
     "name": "stdout",
     "output_type": "stream",
     "text": [
      " test_dir  - 3 dirs 0 files\n",
      "     sub_dir_1  - 4 dirs 0 files\n",
      "         sub_dir_1_1  - 0 dirs 0 files\n",
      "         sub_dir_1_2  - 0 dirs 0 files\n",
      "         sub_dir_1_3  - 0 dirs 0 files\n",
      "         sub_dir_1_4  - 0 dirs 0 files\n",
      "     sub_dir_2  - 5 dirs 0 files\n",
      "         sub_dir_2_1  - 0 dirs 0 files\n",
      "         sub_dir_2_2  - 0 dirs 0 files\n",
      "         sub_dir_2_3  - 0 dirs 0 files\n",
      "         sub_dir_2_4  - 0 dirs 0 files\n",
      "         sub_dir_2_5  - 0 dirs 0 files\n",
      "     sub_dir_3  - 6 dirs 0 files\n",
      "         sub_dir_3_1  - 0 dirs 0 files\n",
      "         sub_dir_3_2  - 0 dirs 0 files\n",
      "         sub_dir_3_3  - 0 dirs 0 files\n",
      "         sub_dir_3_4  - 0 dirs 0 files\n",
      "         sub_dir_3_5  - 0 dirs 0 files\n",
      "         sub_dir_3_6  - 0 dirs 0 files\n"
     ]
    }
   ],
   "source": [
    "tree(test_dir)"
   ]
  },
  {
   "cell_type": "code",
   "execution_count": null,
   "metadata": {},
   "outputs": [
    {
     "name": "stdout",
     "output_type": "stream",
     "text": [
      "   - 2 dirs 3 files\n",
      "     .ipynb_checkpoints  - 0 dirs 2 files\n",
      "         - 00_dir_tree-checkpoint.ipynb\n",
      "         - index-checkpoint.ipynb\n",
      "     test_dir  - 3 dirs 0 files\n",
      "         sub_dir_1  - 4 dirs 0 files\n",
      "             sub_dir_1_1  - 0 dirs 0 files\n",
      "             sub_dir_1_2  - 0 dirs 0 files\n",
      "             sub_dir_1_3  - 0 dirs 0 files\n",
      "             sub_dir_1_4  - 0 dirs 0 files\n",
      "         sub_dir_2  - 5 dirs 0 files\n",
      "             sub_dir_2_1  - 0 dirs 0 files\n",
      "             sub_dir_2_2  - 0 dirs 0 files\n",
      "             sub_dir_2_3  - 0 dirs 0 files\n",
      "             sub_dir_2_4  - 0 dirs 0 files\n",
      "             sub_dir_2_5  - 0 dirs 0 files\n",
      "         sub_dir_3  - 6 dirs 0 files\n",
      "             sub_dir_3_1  - 0 dirs 0 files\n",
      "             sub_dir_3_2  - 0 dirs 0 files\n",
      "             sub_dir_3_3  - 0 dirs 0 files\n",
      "             sub_dir_3_4  - 0 dirs 0 files\n",
      "             sub_dir_3_5  - 0 dirs 0 files\n",
      "             sub_dir_3_6  - 0 dirs 0 files\n",
      "     - .gitattributes\n",
      "     - 00_dir_tree.ipynb\n",
      "     - index.ipynb\n"
     ]
    }
   ],
   "source": [
    "tree(path, print_files=True)"
   ]
  },
  {
   "cell_type": "markdown",
   "metadata": {},
   "source": [
    "# end"
   ]
  },
  {
   "cell_type": "code",
   "execution_count": null,
   "metadata": {},
   "outputs": [],
   "source": [
    "# hide\n",
    "# clear test dir\n",
    "# !rm -r {test_dir}/*"
   ]
  },
  {
   "cell_type": "code",
   "execution_count": null,
   "metadata": {},
   "outputs": [],
   "source": []
  }
 ],
 "metadata": {
  "kernelspec": {
   "display_name": "Python 3",
   "language": "python",
   "name": "python3"
  }
 },
 "nbformat": 4,
 "nbformat_minor": 2
}
