{
 "cells": [
  {
   "cell_type": "code",
   "execution_count": 1,
   "metadata": {
    "ExecuteTime": {
     "end_time": "2020-04-07T04:59:40.720960Z",
     "start_time": "2020-04-07T04:59:40.713441Z"
    }
   },
   "outputs": [],
   "source": [
    "#hide\n",
    "from dir_tree import create_test_dir\n",
    "create_test_dir()"
   ]
  },
  {
   "cell_type": "markdown",
   "metadata": {},
   "source": [
    "# Dir_tree\n",
    "\n",
    "> print directory tree"
   ]
  },
  {
   "cell_type": "markdown",
   "metadata": {},
   "source": [
    "Similar as tree in terminal."
   ]
  },
  {
   "cell_type": "markdown",
   "metadata": {},
   "source": [
    "## Install"
   ]
  },
  {
   "cell_type": "markdown",
   "metadata": {},
   "source": [
    "`pip install dir-tree`"
   ]
  },
  {
   "cell_type": "markdown",
   "metadata": {},
   "source": [
    "## How to use"
   ]
  },
  {
   "cell_type": "markdown",
   "metadata": {},
   "source": [
    "Import tree function:"
   ]
  },
  {
   "cell_type": "code",
   "execution_count": 2,
   "metadata": {
    "ExecuteTime": {
     "end_time": "2020-04-07T04:59:55.796904Z",
     "start_time": "2020-04-07T04:59:55.791576Z"
    }
   },
   "outputs": [],
   "source": [
    "from dir_tree import tree"
   ]
  },
  {
   "cell_type": "code",
   "execution_count": 3,
   "metadata": {
    "ExecuteTime": {
     "end_time": "2020-04-07T05:00:00.804554Z",
     "start_time": "2020-04-07T05:00:00.794960Z"
    }
   },
   "outputs": [
    {
     "name": "stdout",
     "output_type": "stream",
     "text": [
      " test_dir  - 3 dirs 0 files\n",
      "     sub_dir_1  - 4 dirs 0 files\n",
      "         sub_dir_1_1  - 0 dirs 0 files\n",
      "         sub_dir_1_2  - 0 dirs 0 files\n",
      "         sub_dir_1_3  - 0 dirs 0 files\n",
      "         sub_dir_1_4  - 0 dirs 0 files\n",
      "     sub_dir_2  - 5 dirs 0 files\n",
      "         sub_dir_2_1  - 0 dirs 0 files\n",
      "         sub_dir_2_2  - 0 dirs 0 files\n",
      "         sub_dir_2_3  - 0 dirs 0 files\n",
      "         sub_dir_2_4  - 0 dirs 0 files\n",
      "         sub_dir_2_5  - 0 dirs 0 files\n",
      "     sub_dir_3  - 6 dirs 0 files\n",
      "         sub_dir_3_1  - 0 dirs 0 files\n",
      "         sub_dir_3_2  - 0 dirs 0 files\n",
      "         sub_dir_3_3  - 0 dirs 0 files\n",
      "         sub_dir_3_4  - 0 dirs 0 files\n",
      "         sub_dir_3_5  - 0 dirs 0 files\n",
      "         sub_dir_3_6  - 0 dirs 0 files\n"
     ]
    }
   ],
   "source": [
    "tree('test_dir')"
   ]
  },
  {
   "cell_type": "markdown",
   "metadata": {},
   "source": [
    "You can sent string or Path object to tree function."
   ]
  },
  {
   "cell_type": "code",
   "execution_count": 4,
   "metadata": {
    "ExecuteTime": {
     "end_time": "2020-04-07T05:00:16.410548Z",
     "start_time": "2020-04-07T05:00:16.405518Z"
    }
   },
   "outputs": [],
   "source": [
    "from pathlib import Path"
   ]
  },
  {
   "cell_type": "code",
   "execution_count": 5,
   "metadata": {
    "ExecuteTime": {
     "end_time": "2020-04-07T05:00:16.756228Z",
     "start_time": "2020-04-07T05:00:16.748574Z"
    }
   },
   "outputs": [],
   "source": [
    "path = Path('test_dir')"
   ]
  },
  {
   "cell_type": "markdown",
   "metadata": {},
   "source": [
    "Now we can use path: "
   ]
  },
  {
   "cell_type": "markdown",
   "metadata": {},
   "source": [
    "`tree(path)`"
   ]
  },
  {
   "cell_type": "markdown",
   "metadata": {},
   "source": [
    "And we can 'patch' Path as:  "
   ]
  },
  {
   "cell_type": "markdown",
   "metadata": {},
   "source": [
    "`Path.tree = tree'"
   ]
  },
  {
   "cell_type": "markdown",
   "metadata": {},
   "source": [
    "Now we can use it as:"
   ]
  },
  {
   "cell_type": "markdown",
   "metadata": {},
   "source": [
    "`path.tree()`"
   ]
  },
  {
   "cell_type": "markdown",
   "metadata": {},
   "source": [
    "If you want look to files content, use 'print_files=True' argument.  \n",
    "It print files, limited to 'num_files' quantity."
   ]
  },
  {
   "cell_type": "markdown",
   "metadata": {},
   "source": [
    "In terminal it can be used as dir_tree command.   \n",
    "Now it don't accept arguments, it'll be fixed soon,"
   ]
  },
  {
   "cell_type": "markdown",
   "metadata": {},
   "source": [
    "Now it has only base functionality.  \n",
    "It uses only standart library.\n",
    "In plans: ipywidgets and fix script functionalitys."
   ]
  },
  {
   "cell_type": "code",
   "execution_count": null,
   "metadata": {},
   "outputs": [],
   "source": []
  },
  {
   "cell_type": "code",
   "execution_count": null,
   "metadata": {},
   "outputs": [],
   "source": []
  },
  {
   "cell_type": "code",
   "execution_count": null,
   "metadata": {},
   "outputs": [],
   "source": []
  }
 ],
 "metadata": {
  "kernelspec": {
   "display_name": "Python 3",
   "language": "python",
   "name": "python3"
  },
  "language_info": {
   "codemirror_mode": {
    "name": "ipython",
    "version": 3
   },
   "file_extension": ".py",
   "mimetype": "text/x-python",
   "name": "python",
   "nbconvert_exporter": "python",
   "pygments_lexer": "ipython3",
   "version": "3.7.4"
  },
  "toc": {
   "base_numbering": 1,
   "nav_menu": {},
   "number_sections": true,
   "sideBar": false,
   "skip_h1_title": false,
   "title_cell": "Table of Contents",
   "title_sidebar": "Contents",
   "toc_cell": false,
   "toc_position": {
    "height": "474.667px",
    "left": "993px",
    "top": "110px",
    "width": "254px"
   },
   "toc_section_display": true,
   "toc_window_display": true
  }
 },
 "nbformat": 4,
 "nbformat_minor": 2
}
